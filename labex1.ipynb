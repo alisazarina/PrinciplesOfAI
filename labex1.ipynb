{
 "cells": [
  {
   "attachments": {},
   "cell_type": "markdown",
   "metadata": {},
   "source": [
    "### **Lab Exercise 1**"
   ]
  },
  {
   "cell_type": "code",
   "execution_count": null,
   "metadata": {},
   "outputs": [],
   "source": [
    "# NAME: NUR ALISA ZARINA BINTI NAZMI\n",
    "# STUDENT ID: 52213121129\n",
    "# SUBJECT: ISB46703 PRINCIPLES OF ARTIFICIAL INTELLIGENCE\n",
    "# LECTURER: DR M FAIZUDDIN M NOOR"
   ]
  },
  {
   "attachments": {},
   "cell_type": "markdown",
   "metadata": {},
   "source": [
    "\n",
    "**Exercise 1**\n",
    "\n",
    "Write a function called select_second_element that accepts list x and returns the second element of x. If x has no second element, return None. For example if we pass \"Artificial Intelligence\" to select_second_element, it would return \"r\"."
   ]
  },
  {
   "cell_type": "code",
   "execution_count": 118,
   "metadata": {},
   "outputs": [
    {
     "name": "stdout",
     "output_type": "stream",
     "text": [
      "The second element of  Artificial Intelligence is  r\n"
     ]
    }
   ],
   "source": [
    "# Define Function -- \"select_second_element\"\n",
    "# Function accepts list \"x\" + returns second element (index: 1) of \"x\"\n",
    "# Else: return \"None\"\n",
    "\n",
    "def select_second_element(x):\n",
    "    if len(x) >= 2:\n",
    "        return x[1]\n",
    "    else:\n",
    "        return None \n",
    "    \n",
    "# Given \"Artificial Intelligence\" -- output print \"r\"\n",
    "string = \"Artificial Intelligence\"\n",
    "second_element = select_second_element(list(string))\n",
    "print(\"The second element of \", string, \"is \", second_element)"
   ]
  },
  {
   "attachments": {},
   "cell_type": "markdown",
   "metadata": {},
   "source": [
    "\n",
    "**Exercise 2**\n",
    "\n",
    "You are analysing a list of English football teams. Members of each team are stored in the respective team list as follows:\n",
    "\n",
    "- best_team = [\"Klopp\", \"Henderson\", \"Alisson\", \"Roberts\", \"Dijk\", \"Matip\", \"Fabinho\", \"Thiago\", \"Salah\", \"Diaz\", \"Nunez\"] \n",
    "- worse_team = [\"Potter\", \"Mount\", \"Cucurella\", \"Rudiger\", \"Alonso\", \"Silva\", \"Kante\", \"Kovacic\", \"Havertz\", \"Aubameyang\", \"Werner\"]\n",
    "- worst_team = [\"Ten Hagg\", \"Maguire\", \"De Gea\", \"Shaw\", \"Varane\", \"Casemiro\", \"Fernandes\", \"McTominay\", \"Greenwood\", \"Sancho\", \"Ronaldo\"]\n",
    "\n",
    "The team manager is the first in the list, the captain is the second name in the list, and other players are listed after that. These lists are stored in another list called teams_list, which starts with the best_team and proceeds through the list to the worst_team last.\n",
    "\n",
    "You are required to write three functions:\n",
    "\n",
    "1. worst_team_captain() to select and print the captain on the worst_team.\n",
    "2. best_team_manager() to select and print the manager on the best_team.\n",
    "3. worse_team_random_player() to select and print a random player on the worse_team"
   ]
  },
  {
   "cell_type": "code",
   "execution_count": 119,
   "metadata": {},
   "outputs": [
    {
     "name": "stdout",
     "output_type": "stream",
     "text": [
      "The captain of the worst team is Maguire\n",
      "The manager of the best team is Klopp\n",
      "A random player from the worse team is Alonso\n"
     ]
    }
   ],
   "source": [
    "# Import random module for use of Function 3\n",
    "import random\n",
    "\n",
    "# Define and store main teams_list -- \"list of lists\" -- (starting with best_team -> worse_team -> worst_team)\n",
    "teams_list = [\n",
    "    [\"Klopp\", \"Henderson\", \"Alisson\", \"Roberts\", \"Dijk\", \"Matip\", \"Fabinho\", \"Thiago\", \"Salah\", \"Diaz\", \"Nunez\"], \n",
    "    [\"Potter\", \"Mount\", \"Cucurella\", \"Rudiger\", \"Alonso\", \"Silva\", \"Kante\", \"Kovacic\", \"Havertz\", \"Aubameyang\", \"Werner\"],\n",
    "    [\"Ten Hagg\", \"Maguire\", \"De Gea\", \"Shaw\", \"Varane\", \"Casemiro\", \"Fernandes\", \"McTominay\", \"Greenwood\", \"Sancho\", \"Ronaldo\"]\n",
    "]\n",
    "\n",
    "# Function 1: Define function worst_team_captain() + print captain (index: 1) on worst_team -- should print: Maguire\n",
    "def worst_team_captain():\n",
    "    captain = teams_list[2][1]\n",
    "    print(\"The captain of the worst team is \" + str(captain))\n",
    "\n",
    "# Function 2: Define function best_team_manager() + print manager (index: 0) on best_team -- should print: Klopp\n",
    "def best_team_manager():\n",
    "    manager = teams_list[0][0]\n",
    "    print(\"The manager of the best team is \" + str(manager))\n",
    "\n",
    "# Function 3: Define function worse_team_random_player() + print random player on worse_team -- should be different each time!\n",
    "def worse_team_random_player():\n",
    "    player = random.choice(teams_list[1])\n",
    "    print(\"A random player from the worse team is \" + str(player))\n",
    "\n",
    "# Call functions to execute and see output\n",
    "worst_team_captain()\n",
    "best_team_manager()\n",
    "worse_team_random_player()"
   ]
  },
  {
   "attachments": {},
   "cell_type": "markdown",
   "metadata": {},
   "source": [
    "**Exercise 3**\n",
    "\n",
    "Quick sort is an application of divide and conquer strategy. Typically it involves three main steps:\n",
    "\n",
    "1. Selecting a pivot (central point).\n",
    "2. Partioning the sequence based on the pivot.\n",
    "3. Apply step 1 and 2 until the whole sequence is sorted.\n",
    "\n",
    "Based on steps above, use list comprehension to sort a list called randomList containing 100 elements between 1 and 1000 generated using the following code:\n",
    "\n",
    "`import random`\n",
    ">`randomlist = random.sample(range(1, 1000), 100)`"
   ]
  },
  {
   "cell_type": "code",
   "execution_count": 120,
   "metadata": {},
   "outputs": [
    {
     "name": "stdout",
     "output_type": "stream",
     "text": [
      "Sorted:  [4, 5, 15, 32, 33, 45, 54, 59, 72, 78, 81, 91, 112, 122, 141, 149, 175, 190, 197, 216, 230, 242, 277, 288, 294, 301, 307, 319, 329, 331, 333, 336, 342, 348, 376, 394, 423, 450, 451, 453, 471, 483, 507, 534, 557, 588, 589, 605, 623, 639, 648, 651, 657, 666, 676, 679, 688, 696, 700, 703, 705, 724, 736, 743, 754, 763, 768, 772, 780, 782, 796, 799, 804, 811, 818, 832, 843, 850, 854, 857, 861, 871, 892, 897, 912, 916, 920, 922, 938, 945, 946, 947, 969, 978, 980, 983, 984, 990, 991, 997]\n"
     ]
    }
   ],
   "source": [
    "# Import random module\n",
    "import random\n",
    "\n",
    "# Define quicksort function using list comprehensions\n",
    "def quickSort(randomList):\n",
    "    if randomList == []:\n",
    "        return []\n",
    "    else:\n",
    "        # Select pivot (central point)\n",
    "        pivot = randomList[0]\n",
    "        # Partition sequence based on pivot (lesser, pivot, greater)\n",
    "        lesser = quickSort([x for x in randomList[1:] if x < pivot])\n",
    "        greater = quickSort([x for x in randomList[1:] if x >= pivot])\n",
    "        return lesser + [pivot] + greater\n",
    "\n",
    "# Create equivalent to Java main function\n",
    "# Generate a sorted randomList of 100 elements (integers) between 1 and 1000\n",
    "if __name__ == '__main__':\n",
    "    randomList = random.sample(range(1,1000), 100)\n",
    "    print(\"Sorted: \", quickSort(randomList))"
   ]
  },
  {
   "attachments": {},
   "cell_type": "markdown",
   "metadata": {},
   "source": [
    "\n",
    "**Exercise 4**\n",
    "\n",
    "A block of stock has a number of attributes, including a purchase date, a purchase price, a number of shares, and a ticker symbol. This information can be recorded in a tuple for each block of stock and do a number of simple operations on the blocks. Suppose that the stock portfolio is as follows:\n",
    "\n",
    "<img src=\"LabWork1--Ex4\"/>\n",
    "\n",
    "You are required to:\n",
    "\n",
    "1. Use tuple for each stock and store them in list called portfolio\n",
    "2. Develop a function that examines each block, multiplies shares by purchase price and determines the total purchase price of the portfolio.\n",
    "3. Develop a function that examines each block, multiplies shares by purchase price and shares by current price to determine the total amount gained or lost."
   ]
  },
  {
   "cell_type": "code",
   "execution_count": 121,
   "metadata": {},
   "outputs": [
    {
     "name": "stdout",
     "output_type": "stream",
     "text": [
      "Total purchase price of portfolio: $ 10143.0\n",
      "Total current price of portfolio: $ 11259.0\n",
      "Total amount gained: $1116.0\n"
     ]
    }
   ],
   "source": [
    "# Define tuple 'portfolio'\n",
    "portfolio = (\n",
    "    (\"25-Jan-21\", 43.5, 25, \"CAT\", 92.45),\n",
    "    (\"25-Jan-21\", 42.8, 50, \"DD\", 51.49),\n",
    "    (\"25-Jan-21\", 42.1, 75, \"EK\", 34.87),\n",
    "    (\"25-Jan-21\", 37.58, 100, \"GM\", 37.58)\n",
    ")\n",
    "\n",
    "# Define function that examines each block -> purchase price (index:1) * share (index:2) = total purchase price of portfolio\n",
    "# Use for loop to iterate over each block\n",
    "def totalPP(portfolio):\n",
    "    total = 0.0\n",
    "    for block in portfolio:\n",
    "        total += block[1] * block[2]\n",
    "    return total\n",
    "\n",
    "# Define function that examines each block\n",
    "# -> compare between (PP(index:1)*share(index:2)) and (CP(index:4)*share(index:2))\n",
    "# Determine total amount gain or lost\n",
    "\n",
    "# Calculate total current price of portfolio\n",
    "def totalCP(portfolio):\n",
    "    total = 0.0\n",
    "    for block in portfolio:\n",
    "        total += block[4] * block[2]\n",
    "    return total\n",
    "\n",
    "# Define function that calculates total amount gain or lost\n",
    "def totalGL(portfolio):\n",
    "    tpp = totalPP(portfolio)\n",
    "    tcp = totalCP(portfolio)\n",
    "    calc = tcp - tpp\n",
    "\n",
    "# Use if/elif/else to print out possible Gain/Loss output    \n",
    "    if tcp > tpp:\n",
    "        print(\"Total amount gained: $\" + str(round(calc, 2)))\n",
    "    elif tcp < tpp:\n",
    "        print(\"Total amount lost: $\" + str(round(calc, 2)))\n",
    "    else:\n",
    "        print(\"No gain or loss.\")\n",
    "\n",
    "# Call functions to execute and see output\n",
    "print(\"Total purchase price of portfolio: $\", totalPP(portfolio))\n",
    "print(\"Total current price of portfolio: $\", totalCP(portfolio))\n",
    "totalGL(portfolio)"
   ]
  },
  {
   "attachments": {},
   "cell_type": "markdown",
   "metadata": {},
   "source": [
    "\n",
    "**Exercise 5**\n",
    "\n",
    "**Exercise 5.1**\n",
    "\n",
    "Create a *database* using Python dictionary in the following format:\n",
    "\n",
    "<img src=\"LabEx1-Ex5-1.png\"/>\n",
    "\n",
    "You are required to write:\n",
    "\n",
    "1. A function called get_value() to print the value for any given key.\n",
    "2. A function called check_key_add() to check whether the given key is present, if present print the value , else add a new key and value.\n"
   ]
  },
  {
   "cell_type": "code",
   "execution_count": 122,
   "metadata": {},
   "outputs": [
    {
     "name": "stdout",
     "output_type": "stream",
     "text": [
      "Existing database: {'name': 'Router1', 'IP': '1.1.1.1', 'username': 'zframez', 'pwd': 'zframez'}\n",
      "\n",
      "The value for the given key is: zframez\n",
      "Sorry, could not locate the value of that key.\n",
      "\n",
      "Success! That key is present. Its value is 1.1.1.1\n",
      "\n",
      "Oops, that key is not present. Let's add it now!\n",
      "New key added to database.\n",
      "Updated database: {'name': 'Router1', 'IP': '1.1.1.1', 'username': 'zframez', 'pwd': 'zframez', 'hostname': 'alisazarina.github.io'}\n"
     ]
    }
   ],
   "source": [
    "# Note -- Key = immutable type (string, number, tuple) / Value = any data type\n",
    "\n",
    "# Create database using dictionary\n",
    "database = {\n",
    "    'name' : 'Router1',\n",
    "    'IP' : '1.1.1.1',\n",
    "    'username' : 'zframez',\n",
    "    'pwd' : 'zframez'\n",
    "}\n",
    "\n",
    "print(\"Existing database: \" + str(database))\n",
    "\n",
    "# Define function to print value for any given key\n",
    "def get_value(key):\n",
    "    if key in database:\n",
    "        print(\"\\nThe value for the given key is: \" + str(database[key]))\n",
    "    else:\n",
    "        print(\"Sorry, could not locate the value of that key.\")\n",
    "\n",
    "# Define function to check if given key is present -- if present, print value; else, add new key and value\n",
    "def check_key_add(key, value):\n",
    "    if key in database:\n",
    "        print(\"\\nSuccess! That key is present. Its value is \" + str(database[key]))\n",
    "    else:\n",
    "        print(\"\\nOops, that key is not present. Let's add it now!\")\n",
    "        database[key] = value\n",
    "        print(\"New key added to database.\")\n",
    "        print(\"Updated database: \" + str(database))\n",
    "\n",
    "\n",
    "# Print output using main function\n",
    "if __name__ == '__main__':\n",
    "    get_value('username')\n",
    "    get_value('age')\n",
    "    check_key_add('IP', '1.1.1.1')\n",
    "    check_key_add('hostname', 'alisazarina.github.io')"
   ]
  },
  {
   "attachments": {},
   "cell_type": "markdown",
   "metadata": {},
   "source": [
    "\n",
    "**Exercise 5.2**\n",
    "\n",
    "Create a database using Python dictionary in the following format:\n",
    "\n",
    "<img src=\"LabEx1-Ex5-2.png\"/>\n",
    "\n",
    "You are required to write:\n",
    "\n",
    "1. A function to find status of a given interface.\n",
    "2. function to find interface and IP of all interfaces which are up.\n",
    "3. function to add a new entry to above database and display the new content of the database."
   ]
  },
  {
   "cell_type": "code",
   "execution_count": 123,
   "metadata": {},
   "outputs": [
    {
     "name": "stdout",
     "output_type": "stream",
     "text": [
      "Existing database: {'Eternet0': {'IP': '1.1.1.1', 'status': 'up'}, 'Eternet1': {'IP': '2.2.2.2', 'status': 'down'}, 'Serial0': {'IP': '3.3.3.3', 'status': 'up'}, 'Serial1': {'IP': '4.4.4.4', 'status': 'up'}}\n",
      "\n",
      "The status of the given interface is: down\n",
      "Interface not found.\n",
      "\n",
      "All interfaces and IPs with an 'up' status: \n",
      "Interface: Eternet0 \t|\t IP: 1.1.1.1\n",
      "Interface: Serial0 \t|\t IP: 3.3.3.3\n",
      "Interface: Serial1 \t|\t IP: 4.4.4.4\n",
      "\n",
      "New entry added to database.\n",
      "Updated database: {'Eternet0': {'IP': '1.1.1.1', 'status': 'up'}, 'Eternet1': {'IP': '2.2.2.2', 'status': 'down'}, 'Serial0': {'IP': '3.3.3.3', 'status': 'up'}, 'Serial1': {'IP': '4.4.4.4', 'status': 'up'}, 'Serial3': {'IP': '5.5.5.5', 'status': 'down'}}\n"
     ]
    }
   ],
   "source": [
    "# Create database using multidimensional dictionary\n",
    "database2 = {\n",
    "    'Eternet0' : {\n",
    "    'IP' : '1.1.1.1',\n",
    "    'status' : 'up'\n",
    "    },\n",
    "    'Eternet1' : {\n",
    "    'IP' : '2.2.2.2',\n",
    "    'status' : 'down'\n",
    "    },\n",
    "    'Serial0' : {\n",
    "    'IP' : '3.3.3.3',\n",
    "    'status' : 'up'\n",
    "    },\n",
    "    'Serial1' : {\n",
    "    'IP' : '4.4.4.4',\n",
    "    'status' : 'up'\n",
    "    }\n",
    "}\n",
    "\n",
    "# Display existing database\n",
    "print(\"Existing database: \" + str(database2))\n",
    "\n",
    "\n",
    "# Define function to find status of given interface\n",
    "def get_status(interface):\n",
    "    if interface in database2:\n",
    "        print(\"\\nThe status of the given interface is: \" + str(database2[interface]['status']))\n",
    "    else:\n",
    "        print(\"Interface not found.\")\n",
    "\n",
    "\n",
    "# Define function to find interface and IP of all interfaces which are 'up'\n",
    "def get_interface_IP_up():\n",
    "    for interface in database2:\n",
    "        if database2[interface]['status'] == 'up':\n",
    "            print(\"Interface: \" + str(interface) + \" \\t|\\t IP: \" + str(database2[interface]['IP']))\n",
    "\n",
    "\n",
    "# Define function to add a new entry to existing database + display new content of database\n",
    "def new_entry(interface, ip, status):\n",
    "    database2[interface] = {\n",
    "        'IP' : ip,\n",
    "        'status' : status\n",
    "    }\n",
    "    print(\"\\nNew entry added to database.\")\n",
    "    print(\"Updated database: \" + str(database2))\n",
    "\n",
    "\n",
    "# Display output using main function\n",
    "if __name__ == '__main__':\n",
    "    get_status('Eternet1')\n",
    "    get_status('zoom')\n",
    "    print(\"\\nAll interfaces and IPs with an 'up' status: \")\n",
    "    get_interface_IP_up()\n",
    "    new_entry('Serial3', '5.5.5.5', 'down')"
   ]
  }
 ],
 "metadata": {
  "kernelspec": {
   "display_name": "ISB46703",
   "language": "python",
   "name": "python3"
  },
  "language_info": {
   "codemirror_mode": {
    "name": "ipython",
    "version": 3
   },
   "file_extension": ".py",
   "mimetype": "text/x-python",
   "name": "python",
   "nbconvert_exporter": "python",
   "pygments_lexer": "ipython3",
   "version": "3.9.16"
  },
  "orig_nbformat": 4
 },
 "nbformat": 4,
 "nbformat_minor": 2
}
